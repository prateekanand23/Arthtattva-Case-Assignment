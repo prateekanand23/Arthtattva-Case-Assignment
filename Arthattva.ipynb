{
  "nbformat": 4,
  "nbformat_minor": 0,
  "metadata": {
    "colab": {
      "provenance": [],
      "authorship_tag": "ABX9TyM0XSUYM8vxFLjTsjiEVzk9",
      "include_colab_link": true
    },
    "kernelspec": {
      "name": "python3",
      "display_name": "Python 3"
    },
    "language_info": {
      "name": "python"
    }
  },
  "cells": [
    {
      "cell_type": "markdown",
      "metadata": {
        "id": "view-in-github",
        "colab_type": "text"
      },
      "source": [
        "<a href=\"https://colab.research.google.com/github/prateekanand23/Arthtattva-Case-Assignment/blob/main/Arthattva.ipynb\" target=\"_parent\"><img src=\"https://colab.research.google.com/assets/colab-badge.svg\" alt=\"Open In Colab\"/></a>"
      ]
    },
    {
      "cell_type": "code",
      "execution_count": 13,
      "metadata": {
        "colab": {
          "base_uri": "https://localhost:8080/"
        },
        "id": "nKXbDv7gEQhA",
        "outputId": "2b2ea0d9-a114-489c-84e1-d66ded924293"
      },
      "outputs": [
        {
          "output_type": "stream",
          "name": "stdout",
          "text": [
            "Requirement already satisfied: rapidfuzz in /usr/local/lib/python3.10/dist-packages (3.10.1)\n",
            " * Serving Flask app '__main__'\n",
            " * Debug mode: on\n"
          ]
        },
        {
          "output_type": "stream",
          "name": "stderr",
          "text": [
            "INFO:werkzeug:\u001b[31m\u001b[1mWARNING: This is a development server. Do not use it in a production deployment. Use a production WSGI server instead.\u001b[0m\n",
            " * Running on http://127.0.0.1:5000\n",
            "INFO:werkzeug:\u001b[33mPress CTRL+C to quit\u001b[0m\n",
            "INFO:werkzeug: * Restarting with stat\n"
          ]
        }
      ],
      "source": [
        "from flask import Flask, request, jsonify\n",
        "!pip install rapidfuzz\n",
        "from rapidfuzz import process, fuzz\n",
        "import pandas as pd\n",
        "\n",
        "app = Flask(__name__)\n",
        "\n",
        "# Load or initialize the mapping dictionary\n",
        "try:\n",
        "    mappings = pd.read_csv(\"product_mappings.csv\").set_index(\"raw_name\").to_dict()[\"standard_name\"]\n",
        "except FileNotFoundError:\n",
        "    mappings = {}\n",
        "\n",
        "def normalize_name(name):\n",
        "    return ' '.join(name.lower().strip().split())\n",
        "\n",
        "@app.route('/match', methods=['POST'])\n",
        "def match_product():\n",
        "    product_name = request.json.get('product_name')\n",
        "    normalized_name = normalize_name(product_name)\n",
        "\n",
        "    # Check for exact match\n",
        "    if normalized_name in mappings:\n",
        "        return jsonify({\"status\": \"matched\", \"standard_name\": mappings[normalized_name]})\n",
        "\n",
        "    # Find close matches\n",
        "    matches = process.extract(normalized_name, mappings.keys(), scorer=fuzz.partial_ratio, limit=3)\n",
        "    suggestions = [match[0] for match in matches if match[1] > 80]  # Confidence threshold\n",
        "\n",
        "    if suggestions:\n",
        "        return jsonify({\"status\": \"suggest\", \"suggestions\": suggestions})\n",
        "    else:\n",
        "        return jsonify({\"status\": \"not_matched\", \"message\": \"No close matches found. Please provide a manual mapping.\"})\n",
        "\n",
        "@app.route('/add_mapping', methods=['POST'])\n",
        "def add_mapping():\n",
        "    raw_name = normalize_name(request.json.get('raw_name'))\n",
        "    standard_name = request.json.get('standard_name')\n",
        "\n",
        "    mappings[raw_name] = standard_name\n",
        "    pd.DataFrame(mappings.items(), columns=[\"raw_name\", \"standard_name\"]).to_csv(\"product_mappings.csv\", index=False)\n",
        "    return jsonify({\"status\": \"success\", \"message\": f\"Mapping for '{raw_name}' added.\"})\n",
        "\n",
        "\n",
        "if __name__ == \"__main__\":\n",
        "    app.run(debug=True)\n",
        "\n"
      ]
    },
    {
      "cell_type": "code",
      "source": [],
      "metadata": {
        "id": "NNyHg9o2EbLw"
      },
      "execution_count": null,
      "outputs": []
    }
  ]
}